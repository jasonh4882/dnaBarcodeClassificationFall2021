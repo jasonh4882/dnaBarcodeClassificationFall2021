{
 "cells": [
  {
   "cell_type": "code",
   "execution_count": 1,
   "id": "1cf6ef20-7a79-4b25-904b-6425d138db65",
   "metadata": {},
   "outputs": [],
   "source": [
    "import torch\n",
    "import torchvision\n",
    "import torchvision.transforms as transforms\n",
    "\n",
    "import tensorflow as tf\n",
    "from tensorflow import keras\n",
    "from tensorflow.keras import layers\n",
    "\n",
    "import numpy as np\n",
    "import pandas as pd\n",
    "import seaborn as sns\n",
    "import random"
   ]
  },
  {
   "cell_type": "code",
   "execution_count": 3,
   "id": "9b8fb8d9-b377-472e-b24a-19dc483e4fbd",
   "metadata": {},
   "outputs": [],
   "source": [
    "\n",
    "test_features = pd.read_csv('test_features.csv', names=('id','dna'),\n",
    "                          na_values='' , comment='\\t',\n",
    "                          sep=',', skipinitialspace=True)\n",
    "train_features = pd.read_csv('train_features.csv', names=('id','dna'),\n",
    "                          na_values='' , comment='\\t',\n",
    "                          sep=',', skipinitialspace=True)\n",
    "\n",
    "train_labels = pd.read_csv('train_labels.csv', names=('id','labels'),\n",
    "                          na_values='' , comment='\\t',\n",
    "                          sep=',', skipinitialspace=True)"
   ]
  },
  {
   "cell_type": "code",
   "execution_count": 5,
   "id": "54c4a8f7-153e-451c-8a83-f74188b2648e",
   "metadata": {},
   "outputs": [
    {
     "data": {
      "text/html": [
       "<div>\n",
       "<style scoped>\n",
       "    .dataframe tbody tr th:only-of-type {\n",
       "        vertical-align: middle;\n",
       "    }\n",
       "\n",
       "    .dataframe tbody tr th {\n",
       "        vertical-align: top;\n",
       "    }\n",
       "\n",
       "    .dataframe thead th {\n",
       "        text-align: right;\n",
       "    }\n",
       "</style>\n",
       "<table border=\"1\" class=\"dataframe\">\n",
       "  <thead>\n",
       "    <tr style=\"text-align: right;\">\n",
       "      <th></th>\n",
       "      <th>id</th>\n",
       "      <th>dna</th>\n",
       "    </tr>\n",
       "  </thead>\n",
       "  <tbody>\n",
       "    <tr>\n",
       "      <th>8302</th>\n",
       "      <td>8302</td>\n",
       "      <td>----------------------------------------------...</td>\n",
       "    </tr>\n",
       "    <tr>\n",
       "      <th>8303</th>\n",
       "      <td>8303</td>\n",
       "      <td>TACATTATATTTTTTATTTGGAACTTGAGCTGGAATAGTTGGTACT...</td>\n",
       "    </tr>\n",
       "    <tr>\n",
       "      <th>8304</th>\n",
       "      <td>8304</td>\n",
       "      <td>AACATTATATTTTATTTTTGGAGCATGATCAGGAATAGTTGGAACA...</td>\n",
       "    </tr>\n",
       "    <tr>\n",
       "      <th>8305</th>\n",
       "      <td>8305</td>\n",
       "      <td>TACTTTATATTTTATTTTCGGAGCTTGAGCTGGTATAGTAGGAACG...</td>\n",
       "    </tr>\n",
       "    <tr>\n",
       "      <th>8306</th>\n",
       "      <td>8306</td>\n",
       "      <td>GACTTTGTATTTTCTATTTGGAATATGAGCTGGAATAATTGGAACT...</td>\n",
       "    </tr>\n",
       "  </tbody>\n",
       "</table>\n",
       "</div>"
      ],
      "text/plain": [
       "        id                                                dna\n",
       "8302  8302  ----------------------------------------------...\n",
       "8303  8303  TACATTATATTTTTTATTTGGAACTTGAGCTGGAATAGTTGGTACT...\n",
       "8304  8304  AACATTATATTTTATTTTTGGAGCATGATCAGGAATAGTTGGAACA...\n",
       "8305  8305  TACTTTATATTTTATTTTCGGAGCTTGAGCTGGTATAGTAGGAACG...\n",
       "8306  8306  GACTTTGTATTTTCTATTTGGAATATGAGCTGGAATAATTGGAACT..."
      ]
     },
     "execution_count": 5,
     "metadata": {},
     "output_type": "execute_result"
    }
   ],
   "source": [
    "test_features.tail()"
   ]
  },
  {
   "cell_type": "code",
   "execution_count": 6,
   "id": "2c510d4f-7cc7-4a00-b846-c3eb8a3b0992",
   "metadata": {},
   "outputs": [
    {
     "data": {
      "text/html": [
       "<div>\n",
       "<style scoped>\n",
       "    .dataframe tbody tr th:only-of-type {\n",
       "        vertical-align: middle;\n",
       "    }\n",
       "\n",
       "    .dataframe tbody tr th {\n",
       "        vertical-align: top;\n",
       "    }\n",
       "\n",
       "    .dataframe thead th {\n",
       "        text-align: right;\n",
       "    }\n",
       "</style>\n",
       "<table border=\"1\" class=\"dataframe\">\n",
       "  <thead>\n",
       "    <tr style=\"text-align: right;\">\n",
       "      <th></th>\n",
       "      <th>id</th>\n",
       "      <th>dna</th>\n",
       "    </tr>\n",
       "  </thead>\n",
       "  <tbody>\n",
       "    <tr>\n",
       "      <th>12902</th>\n",
       "      <td>12902</td>\n",
       "      <td>TACTCTGTATTTTCTATTTGGAGTATGATCAGGAATAGTAGGAACA...</td>\n",
       "    </tr>\n",
       "    <tr>\n",
       "      <th>12903</th>\n",
       "      <td>12903</td>\n",
       "      <td>AACATTATATTTTATCTTTGGGGCCTGATCAGGAATAGTAGGAACT...</td>\n",
       "    </tr>\n",
       "    <tr>\n",
       "      <th>12904</th>\n",
       "      <td>12904</td>\n",
       "      <td>AACCTTATATTTCCTATTCGGAGCATGAGCCGGAATATTAGGAACA...</td>\n",
       "    </tr>\n",
       "    <tr>\n",
       "      <th>12905</th>\n",
       "      <td>12905</td>\n",
       "      <td>----------------------------------------------...</td>\n",
       "    </tr>\n",
       "    <tr>\n",
       "      <th>12906</th>\n",
       "      <td>12906</td>\n",
       "      <td>AACATTATATTTTATTTTTGGGGCTTGAGCTGGAATAGTTGGAACT...</td>\n",
       "    </tr>\n",
       "  </tbody>\n",
       "</table>\n",
       "</div>"
      ],
      "text/plain": [
       "          id                                                dna\n",
       "12902  12902  TACTCTGTATTTTCTATTTGGAGTATGATCAGGAATAGTAGGAACA...\n",
       "12903  12903  AACATTATATTTTATCTTTGGGGCCTGATCAGGAATAGTAGGAACT...\n",
       "12904  12904  AACCTTATATTTCCTATTCGGAGCATGAGCCGGAATATTAGGAACA...\n",
       "12905  12905  ----------------------------------------------...\n",
       "12906  12906  AACATTATATTTTATTTTTGGGGCTTGAGCTGGAATAGTTGGAACT..."
      ]
     },
     "execution_count": 6,
     "metadata": {},
     "output_type": "execute_result"
    }
   ],
   "source": [
    "train_features.tail()"
   ]
  },
  {
   "cell_type": "code",
   "execution_count": 7,
   "id": "46c4b16c-4a42-4e6c-ae36-de9c9a8e5a9a",
   "metadata": {},
   "outputs": [
    {
     "data": {
      "text/html": [
       "<div>\n",
       "<style scoped>\n",
       "    .dataframe tbody tr th:only-of-type {\n",
       "        vertical-align: middle;\n",
       "    }\n",
       "\n",
       "    .dataframe tbody tr th {\n",
       "        vertical-align: top;\n",
       "    }\n",
       "\n",
       "    .dataframe thead th {\n",
       "        text-align: right;\n",
       "    }\n",
       "</style>\n",
       "<table border=\"1\" class=\"dataframe\">\n",
       "  <thead>\n",
       "    <tr style=\"text-align: right;\">\n",
       "      <th></th>\n",
       "      <th>id</th>\n",
       "      <th>labels</th>\n",
       "    </tr>\n",
       "  </thead>\n",
       "  <tbody>\n",
       "    <tr>\n",
       "      <th>12902</th>\n",
       "      <td>12902</td>\n",
       "      <td>400</td>\n",
       "    </tr>\n",
       "    <tr>\n",
       "      <th>12903</th>\n",
       "      <td>12903</td>\n",
       "      <td>171</td>\n",
       "    </tr>\n",
       "    <tr>\n",
       "      <th>12904</th>\n",
       "      <td>12904</td>\n",
       "      <td>329</td>\n",
       "    </tr>\n",
       "    <tr>\n",
       "      <th>12905</th>\n",
       "      <td>12905</td>\n",
       "      <td>1148</td>\n",
       "    </tr>\n",
       "    <tr>\n",
       "      <th>12906</th>\n",
       "      <td>12906</td>\n",
       "      <td>406</td>\n",
       "    </tr>\n",
       "  </tbody>\n",
       "</table>\n",
       "</div>"
      ],
      "text/plain": [
       "          id labels\n",
       "12902  12902    400\n",
       "12903  12903    171\n",
       "12904  12904    329\n",
       "12905  12905   1148\n",
       "12906  12906    406"
      ]
     },
     "execution_count": 7,
     "metadata": {},
     "output_type": "execute_result"
    }
   ],
   "source": [
    "train_labels.tail()"
   ]
  },
  {
   "cell_type": "code",
   "execution_count": 8,
   "id": "d1d174f8-25a0-4eec-adbe-b1413db18a83",
   "metadata": {},
   "outputs": [],
   "source": [
    "import torch.nn as nn\n",
    "import torch.nn.functional as F\n",
    "\n",
    "\n",
    "class Net(nn.Module):\n",
    "    def __init__(self):\n",
    "        super().__init__()\n",
    "        self.conv1 = nn.Conv2d(3, 6, 5)\n",
    "        self.pool = nn.MaxPool2d(2, 2)\n",
    "        self.conv2 = nn.Conv2d(6, 16, 5)\n",
    "        self.fc1 = nn.Linear(16 * 5 * 5, 120)\n",
    "        self.fc2 = nn.Linear(120, 84)\n",
    "        self.fc3 = nn.Linear(84, 10)\n",
    "\n",
    "    def forward(self, x):\n",
    "        x = self.pool(F.relu(self.conv1(x)))\n",
    "        x = self.pool(F.relu(self.conv2(x)))\n",
    "        x = torch.flatten(x, 1) # flatten all dimensions except batch\n",
    "        x = F.relu(self.fc1(x))\n",
    "        x = F.relu(self.fc2(x))\n",
    "        x = self.fc3(x)\n",
    "        return x\n",
    "\n",
    "\n",
    "net = Net()"
   ]
  },
  {
   "cell_type": "code",
   "execution_count": null,
   "id": "3ec91c5d-c0a9-43ec-93ab-7bc34447e909",
   "metadata": {},
   "outputs": [],
   "source": [
    "from torchsummary import summary\n",
    "print(net)\n",
    "summary(net,(3,32,32))"
   ]
  },
  {
   "cell_type": "code",
   "execution_count": 9,
   "id": "fde39b38-22f6-4afd-8e17-a7c730b6d0df",
   "metadata": {},
   "outputs": [],
   "source": [
    "import torch.optim as optim\n",
    "\n",
    "criterion = nn.CrossEntropyLoss()\n",
    "optimizer = optim.SGD(net.parameters(), lr=0.001, momentum=0.9)"
   ]
  },
  {
   "cell_type": "code",
   "execution_count": null,
   "id": "687ebd7c-0cf3-4fd4-a398-bc178b6895b3",
   "metadata": {},
   "outputs": [],
   "source": [
    "for epoch in range(2):  # loop over the dataset multiple times\n",
    "\n",
    "    running_loss = 0.0\n",
    "    for i, data in enumerate(train_labels, 0):\n",
    "        # get the inputs; data is a list of [inputs, labels]\n",
    "        inputs, labels = data\n",
    "\n",
    "        # zero the parameter gradients\n",
    "        optimizer.zero_grad()\n",
    "\n",
    "        # forward + backward + optimize\n",
    "        outputs = net(inputs)\n",
    "        loss = criterion(outputs, labels)\n",
    "        loss.backward()\n",
    "        optimizer.step()\n",
    "\n",
    "        # print statistics\n",
    "        running_loss += loss.item()\n",
    "        if i % 2000 == 1999:    # print every 2000 mini-batches\n",
    "            print('[%d, %5d] loss: %.3f' %\n",
    "                  (epoch + 1, i + 1, running_loss / 2000))\n",
    "            running_loss = 0.0\n",
    "\n",
    "print('Finished Training')"
   ]
  },
  {
   "cell_type": "code",
   "execution_count": null,
   "id": "8d6d4495-0126-4fb8-aea9-a2dc03d3643e",
   "metadata": {},
   "outputs": [],
   "source": [
    "# predict on test data\n",
    "dataiter = iter(testloader)\n",
    "images, labels = dataiter.next()\n",
    "\n",
    "# print images\n",
    "imshow(torchvision.utils.make_grid(images))\n",
    "print('GroundTruth: ', ' '.join('%5s' % classes[labels[j]] for j in range(4)))"
   ]
  },
  {
   "cell_type": "code",
   "execution_count": null,
   "id": "bf95c8c6-b71c-4533-9259-2d07b85f7a8d",
   "metadata": {},
   "outputs": [],
   "source": [
    "outputs = net(images)\n",
    "_, predicted = torch.max(outputs, 1)\n",
    "\n",
    "print('Predicted: ', ' '.join('%5s' % classes[predicted[j]]\n",
    "                              for j in range(4)))"
   ]
  },
  {
   "cell_type": "code",
   "execution_count": null,
   "id": "0f889eb2-c3a5-41fb-ac68-3a21c10fc8a0",
   "metadata": {},
   "outputs": [],
   "source": []
  }
 ],
 "metadata": {
  "kernelspec": {
   "display_name": "Python 3 (ipykernel)",
   "language": "python",
   "name": "python3"
  },
  "language_info": {
   "codemirror_mode": {
    "name": "ipython",
    "version": 3
   },
   "file_extension": ".py",
   "mimetype": "text/x-python",
   "name": "python",
   "nbconvert_exporter": "python",
   "pygments_lexer": "ipython3",
   "version": "3.9.7"
  }
 },
 "nbformat": 4,
 "nbformat_minor": 5
}
